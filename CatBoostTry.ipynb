{
 "cells": [
  {
   "cell_type": "markdown",
   "metadata": {},
   "source": [
    "# Тест 1"
   ]
  },
  {
   "cell_type": "code",
   "execution_count": null,
   "metadata": {},
   "outputs": [],
   "source": [
    "import pandas as pd\n",
    "from catboost import CatBoostClassifier, Pool\n",
    "from sklearn.model_selection import train_test_split"
   ]
  },
  {
   "cell_type": "code",
   "execution_count": null,
   "metadata": {},
   "outputs": [],
   "source": [
    "train = pd.read_csv('train.csv')\n",
    "test = pd.read_csv('test.csv')"
   ]
  },
  {
   "cell_type": "code",
   "execution_count": null,
   "metadata": {},
   "outputs": [],
   "source": [
    "train['ts'] = pd.to_datetime(train['ts'])\n",
    "test['ts'] = pd.to_datetime(test['ts'])"
   ]
  },
  {
   "cell_type": "code",
   "execution_count": null,
   "metadata": {},
   "outputs": [],
   "source": [
    "for df in [train, test]:\n",
    "    df['hour'] = df['ts'].dt.hour\n",
    "    df['day'] = df['ts'].dt.dayofweek\n",
    "    df['day_of_month'] = df['ts'].dt.day\n",
    "    df['month'] = df['ts'].dt.month"
   ]
  },
  {
   "cell_type": "code",
   "execution_count": null,
   "metadata": {},
   "outputs": [],
   "source": [
    "categorical_features = ['gate_id', 'hour', 'day', 'day_of_month', 'month']"
   ]
  },
  {
   "cell_type": "code",
   "execution_count": null,
   "metadata": {},
   "outputs": [],
   "source": [
    "X = train[categorical_features]\n",
    "y = train['user_id']\n",
    "X_test = test[categorical_features]"
   ]
  },
  {
   "cell_type": "code",
   "execution_count": null,
   "metadata": {},
   "outputs": [],
   "source": [
    "train_pool = Pool(X, y, cat_features=categorical_features)\n",
    "test_pool = Pool(X_test, cat_features=categorical_features)"
   ]
  },
  {
   "cell_type": "code",
   "execution_count": null,
   "metadata": {},
   "outputs": [],
   "source": [
    "model = CatBoostClassifier(iterations = 2000, \n",
    "                           learning_rate = 0.1, \n",
    "                           depth = 10,\n",
    "                           loss_function='MultiClass',\n",
    "                           verbose=True,\n",
    "                           task_type=\"GPU\",\n",
    "                           devices='0:1')"
   ]
  },
  {
   "cell_type": "code",
   "execution_count": null,
   "metadata": {},
   "outputs": [],
   "source": [
    "model.fit(train_pool)"
   ]
  },
  {
   "cell_type": "code",
   "execution_count": null,
   "metadata": {},
   "outputs": [],
   "source": [
    "test_pred_proba = model.predict_proba(test_pool)  # Вероятности для каждого класса\n",
    "test_pred = model.predict(test_pool).flatten()    # Предсказанные классы"
   ]
  },
  {
   "cell_type": "code",
   "execution_count": null,
   "metadata": {},
   "outputs": [],
   "source": [
    "test['user_id_proba'] = test_pred_proba.max(axis = 1)  # Макс. вероятность для каждого примера\n",
    "test['predicted_user_id'] = test_pred  # Предсказанный user_id"
   ]
  },
  {
   "cell_type": "code",
   "execution_count": null,
   "metadata": {},
   "outputs": [],
   "source": [
    "output = test.groupby('user_word').apply(lambda x: x.loc[x['user_id_proba'].idxmax()])"
   ]
  },
  {
   "cell_type": "code",
   "execution_count": null,
   "metadata": {},
   "outputs": [],
   "source": [
    "# Создание окончательной таблицы submission\n",
    "submit = output[['user_word', 'predicted_user_id']].rename(columns={'predicted_user_id': 'preds'})\n",
    "submit.to_csv('submission.csv', index = False)"
   ]
  },
  {
   "cell_type": "markdown",
   "metadata": {},
   "source": [
    "# Тест 2"
   ]
  },
  {
   "cell_type": "code",
   "execution_count": null,
   "metadata": {},
   "outputs": [],
   "source": [
    "import pandas as pd\n",
    "from catboost import CatBoostClassifier, Pool\n",
    "from sklearn.model_selection import train_test_split"
   ]
  },
  {
   "cell_type": "code",
   "execution_count": null,
   "metadata": {},
   "outputs": [],
   "source": [
    "train = pd.read_csv('train.csv')\n",
    "test = pd.read_csv('test.csv')"
   ]
  },
  {
   "cell_type": "code",
   "execution_count": null,
   "metadata": {},
   "outputs": [],
   "source": [
    "train['ts'] = pd.to_datetime(train['ts'])\n",
    "test['ts'] = pd.to_datetime(test['ts'])"
   ]
  },
  {
   "cell_type": "code",
   "execution_count": null,
   "metadata": {},
   "outputs": [],
   "source": [
    "for df in [train, test]:\n",
    "    df['hour'] = df['ts'].dt.hour\n",
    "    df['day'] = df['ts'].dt.dayofweek\n",
    "    df['day_of_month'] = df['ts'].dt.day\n",
    "    df['month'] = df['ts'].dt.month"
   ]
  },
  {
   "cell_type": "code",
   "execution_count": null,
   "metadata": {},
   "outputs": [],
   "source": [
    "categorical_features = ['gate_id', 'hour', 'day', 'day_of_month', 'month']"
   ]
  },
  {
   "cell_type": "code",
   "execution_count": null,
   "metadata": {},
   "outputs": [],
   "source": [
    "X = train[categorical_features]\n",
    "y = train['user_id']\n",
    "X_test = test[categorical_features]"
   ]
  },
  {
   "cell_type": "code",
   "execution_count": null,
   "metadata": {},
   "outputs": [],
   "source": [
    "train_pool = Pool(X, y, cat_features=categorical_features)\n",
    "test_pool = Pool(X_test, cat_features=categorical_features)"
   ]
  },
  {
   "cell_type": "code",
   "execution_count": null,
   "metadata": {},
   "outputs": [],
   "source": [
    "model = CatBoostClassifier(iterations = 20000, \n",
    "                           learning_rate = 0.05, \n",
    "                           depth = 3,\n",
    "                           loss_function='MultiClass',\n",
    "                           verbose=True,\n",
    "                           task_type=\"GPU\",\n",
    "                           devices='0:1')"
   ]
  },
  {
   "cell_type": "code",
   "execution_count": null,
   "metadata": {},
   "outputs": [],
   "source": [
    "model.fit(train_pool)"
   ]
  },
  {
   "cell_type": "code",
   "execution_count": null,
   "metadata": {},
   "outputs": [],
   "source": [
    "test_pred_proba = model.predict_proba(test_pool)  # Вероятности для каждого класса\n",
    "test_pred = model.predict(test_pool).flatten()    # Предсказанные классы"
   ]
  },
  {
   "cell_type": "code",
   "execution_count": null,
   "metadata": {},
   "outputs": [],
   "source": [
    "pred_df = pd.DataFrame({\n",
    "    'user_word': test['user_word'],\n",
    "    'preds': test_pred,\n",
    "    'proba': test_pred_proba.max(axis=1) # Максимальная вероятность для каждого прогноза\n",
    "})"
   ]
  },
  {
   "cell_type": "code",
   "execution_count": null,
   "metadata": {},
   "outputs": [],
   "source": [
    "pred_df_sorted = pred_df.sort_values(by='proba', ascending=False)"
   ]
  },
  {
   "cell_type": "code",
   "execution_count": null,
   "metadata": {},
   "outputs": [],
   "source": [
    "used_ids = set()\n",
    "unique_predictions = []\n",
    "\n",
    "for index, row in pred_df_sorted.iterrows():\n",
    "    if row['preds'] not in used_ids:\n",
    "        unique_predictions.append(row)\n",
    "        used_ids.add(row['preds'])"
   ]
  },
  {
   "cell_type": "code",
   "execution_count": null,
   "metadata": {},
   "outputs": [],
   "source": [
    "final_sub_df = pd.DataFrame(unique_predictions)"
   ]
  },
  {
   "cell_type": "code",
   "execution_count": null,
   "metadata": {},
   "outputs": [],
   "source": [
    "final_submission = test[['user_word']].merge(final_sub_df, on='user_word', how='left')"
   ]
  },
  {
   "cell_type": "code",
   "execution_count": null,
   "metadata": {},
   "outputs": [],
   "source": [
    "final_submission['preds'].fillna(-999, inplace=True) # Для новых пользователей"
   ]
  },
  {
   "cell_type": "code",
   "execution_count": null,
   "metadata": {},
   "outputs": [],
   "source": [
    "# Сохранение результатов в файл CSV\n",
    "final_submission[['user_word', 'preds']].to_csv('submission.csv', index=False)"
   ]
  },
  {
   "cell_type": "markdown",
   "metadata": {},
   "source": [
    "# Тест 3"
   ]
  },
  {
   "cell_type": "code",
   "execution_count": null,
   "metadata": {},
   "outputs": [],
   "source": [
    "import pandas as pd\n",
    "from catboost import CatBoostClassifier, Pool\n",
    "from sklearn.model_selection import train_test_split"
   ]
  },
  {
   "cell_type": "code",
   "execution_count": null,
   "metadata": {},
   "outputs": [],
   "source": [
    "train = pd.read_csv('train.csv')\n",
    "test = pd.read_csv('test.csv')"
   ]
  },
  {
   "cell_type": "code",
   "execution_count": null,
   "metadata": {},
   "outputs": [],
   "source": [
    "train['ts'] = pd.to_datetime(train['ts'])\n",
    "test['ts'] = pd.to_datetime(test['ts'])"
   ]
  },
  {
   "cell_type": "code",
   "execution_count": null,
   "metadata": {},
   "outputs": [],
   "source": [
    "for df in [train, test]:\n",
    "    df['hour'] = df['ts'].dt.hour\n",
    "    df['day'] = df['ts'].dt.dayofweek\n",
    "    df['day_of_month'] = df['ts'].dt.day\n",
    "    df['month'] = df['ts'].dt.month"
   ]
  },
  {
   "cell_type": "code",
   "execution_count": null,
   "metadata": {},
   "outputs": [],
   "source": [
    "categorical_features = ['gate_id', 'hour', 'day', 'day_of_month', 'month']"
   ]
  },
  {
   "cell_type": "code",
   "execution_count": null,
   "metadata": {},
   "outputs": [],
   "source": [
    "X = train[categorical_features]\n",
    "y = train['user_id']\n",
    "X_test = test[categorical_features]"
   ]
  },
  {
   "cell_type": "code",
   "execution_count": null,
   "metadata": {},
   "outputs": [],
   "source": [
    "train_pool = Pool(X, y, cat_features=categorical_features)\n",
    "test_pool = Pool(X_test, cat_features=categorical_features)"
   ]
  },
  {
   "cell_type": "code",
   "execution_count": null,
   "metadata": {},
   "outputs": [],
   "source": [
    "model = CatBoostClassifier(iterations = 20000, \n",
    "                           learning_rate = 0.1, \n",
    "                           depth = 10,\n",
    "                           loss_function = 'MultiClass',\n",
    "                           verbose = True,\n",
    "                           task_type = \"GPU\",\n",
    "                           devices = '0:1')"
   ]
  },
  {
   "cell_type": "code",
   "execution_count": null,
   "metadata": {},
   "outputs": [],
   "source": [
    "model.fit(train_pool)"
   ]
  },
  {
   "cell_type": "code",
   "execution_count": null,
   "metadata": {},
   "outputs": [],
   "source": [
    "test_pred_proba = model.predict_proba(test_pool)  # Вероятности для каждого класса\n",
    "test_pred = model.predict(test_pool).flatten()    # Предсказанные классы"
   ]
  },
  {
   "cell_type": "code",
   "execution_count": null,
   "metadata": {},
   "outputs": [],
   "source": [
    "predictions_df = pd.DataFrame({\n",
    "    'user_word': test['user_word'],\n",
    "    'predicted_id': test_pred, \n",
    "    'max_proba': test_pred_proba.max(axis=1)\n",
    "})"
   ]
  },
  {
   "cell_type": "code",
   "execution_count": null,
   "metadata": {},
   "outputs": [],
   "source": [
    "unique_user_word_df = predictions_df.groupby('user_word').apply(lambda x: x.nlargest(1, 'max_proba')).reset_index(drop = True)"
   ]
  },
  {
   "cell_type": "code",
   "execution_count": null,
   "metadata": {},
   "outputs": [],
   "source": [
    "unique_user_word_df.sort_values('max_proba', ascending = False, inplace = True)"
   ]
  },
  {
   "cell_type": "code",
   "execution_count": null,
   "metadata": {},
   "outputs": [],
   "source": [
    "# Затем удаляем дубликаты ID, сохраняя только первые вхождения (самые высокие вероятности)\n",
    "final_df = unique_user_word_df.drop_duplicates(subset = 'predicted_id', keep = 'first')"
   ]
  },
  {
   "cell_type": "code",
   "execution_count": null,
   "metadata": {},
   "outputs": [],
   "source": [
    "# Если мы потеряли какие-то user_word после удаления дубликатов, нужно обработать это\n",
    "expected_user_words = set(test['user_word'].unique())\n",
    "missing_user_words = expected_user_words - set(final_df['user_word'])"
   ]
  },
  {
   "cell_type": "code",
   "execution_count": null,
   "metadata": {},
   "outputs": [],
   "source": [
    "# Для недостающих user_word установим предсказание в -999\n",
    "missing_df = pd.DataFrame({'user_word': list(missing_user_words), 'predicted_id': [-999] * len(missing_user_words)})"
   ]
  },
  {
   "cell_type": "code",
   "execution_count": null,
   "metadata": {},
   "outputs": [],
   "source": [
    "# Объединяем исходный датафрейм с пропущенными значениями\n",
    "final_df = pd.concat([final_df, missing_df], axis = 0)"
   ]
  },
  {
   "cell_type": "code",
   "execution_count": null,
   "metadata": {},
   "outputs": [],
   "source": [
    "# Экспорт результатов в файл 'submission.csv'\n",
    "final_df[['user_word', 'predicted_id']].to_csv('submission.csv', index=False)\n",
    "\n",
    "print(\"Файл submission.csv с уникальными предсказаниями сохранён.\")"
   ]
  },
  {
   "cell_type": "markdown",
   "metadata": {},
   "source": [
    "# Тест 4"
   ]
  },
  {
   "cell_type": "code",
   "execution_count": null,
   "metadata": {},
   "outputs": [],
   "source": [
    "import pandas as pd\n",
    "from catboost import CatBoostClassifier, Pool\n",
    "from sklearn.model_selection import train_test_split"
   ]
  },
  {
   "cell_type": "code",
   "execution_count": null,
   "metadata": {},
   "outputs": [],
   "source": [
    "train = pd.read_csv('train.csv')\n",
    "test = pd.read_csv('test.csv')"
   ]
  },
  {
   "cell_type": "code",
   "execution_count": null,
   "metadata": {},
   "outputs": [],
   "source": [
    "train['ts'] = pd.to_datetime(train['ts'])\n",
    "test['ts'] = pd.to_datetime(test['ts'])"
   ]
  },
  {
   "cell_type": "code",
   "execution_count": null,
   "metadata": {},
   "outputs": [],
   "source": [
    "for df in [train, test]:\n",
    "    df['hour'] = df['ts'].dt.hour\n",
    "    df['day'] = df['ts'].dt.dayofweek\n",
    "    df['day_of_month'] = df['ts'].dt.day\n",
    "    df['month'] = df['ts'].dt.month"
   ]
  },
  {
   "cell_type": "code",
   "execution_count": null,
   "metadata": {},
   "outputs": [],
   "source": [
    "categorical_features = ['gate_id', 'hour', 'day', 'day_of_month', 'month']"
   ]
  },
  {
   "cell_type": "code",
   "execution_count": null,
   "metadata": {},
   "outputs": [],
   "source": [
    "X = train[categorical_features]\n",
    "y = train['user_id']\n",
    "X_test = test[categorical_features]"
   ]
  },
  {
   "cell_type": "code",
   "execution_count": null,
   "metadata": {},
   "outputs": [],
   "source": [
    "train_pool = Pool(X, y, cat_features=categorical_features)\n",
    "test_pool = Pool(X_test, cat_features=categorical_features)"
   ]
  },
  {
   "cell_type": "code",
   "execution_count": null,
   "metadata": {},
   "outputs": [],
   "source": [
    "model = CatBoostClassifier(iterations = 20000, \n",
    "                           learning_rate = 0.06, \n",
    "                           depth = 8,\n",
    "                           loss_function = 'MultiClass',\n",
    "                           verbose = True,\n",
    "                           task_type = \"GPU\",\n",
    "                           devices = '0:1')"
   ]
  },
  {
   "cell_type": "code",
   "execution_count": null,
   "metadata": {},
   "outputs": [],
   "source": [
    "model.fit(train_pool)"
   ]
  },
  {
   "cell_type": "code",
   "execution_count": null,
   "metadata": {},
   "outputs": [],
   "source": [
    "test_pred_proba = model.predict_proba(test_pool)  # Вероятности для каждого класса\n",
    "test_pred = model.predict(test_pool).flatten()    # Предсказанные классы"
   ]
  },
  {
   "cell_type": "code",
   "execution_count": null,
   "metadata": {},
   "outputs": [],
   "source": [
    "predictions_df = pd.DataFrame({\n",
    "    'user_word': test['user_word'],\n",
    "    'predicted_id': test_pred, \n",
    "    'max_proba': test_pred_proba.max(axis=1)\n",
    "})"
   ]
  },
  {
   "cell_type": "code",
   "execution_count": null,
   "metadata": {},
   "outputs": [],
   "source": [
    "predictions_df = predictions_df.sort_values(by = 'max_proba', ascending = False)"
   ]
  },
  {
   "cell_type": "code",
   "execution_count": null,
   "metadata": {},
   "outputs": [],
   "source": [
    "deduped_by_user_word = predictions_df.drop_duplicates(subset = 'user_word', keep = 'first')"
   ]
  },
  {
   "cell_type": "code",
   "execution_count": null,
   "metadata": {},
   "outputs": [],
   "source": [
    "deduped_by_id = deduped_by_user_word.drop_duplicates(subset = 'predicted_id', keep = 'first')"
   ]
  },
  {
   "cell_type": "code",
   "execution_count": null,
   "metadata": {},
   "outputs": [],
   "source": [
    "missing_user_words = set(test['user_word']) - set(deduped_by_id['user_word'])"
   ]
  },
  {
   "cell_type": "code",
   "execution_count": null,
   "metadata": {},
   "outputs": [],
   "source": [
    "missing_entries = pd.DataFrame({\n",
    "    'user_word': list(missing_user_words),\n",
    "    'predicted_id': [-999] * len(missing_user_words),\n",
    "    'max_proba': [0] * len(missing_user_words)  # Нулевые вероятности для заполнения\n",
    "})"
   ]
  },
  {
   "cell_type": "code",
   "execution_count": null,
   "metadata": {},
   "outputs": [],
   "source": [
    "final_submission = pd.concat([deduped_by_id, missing_entries])"
   ]
  },
  {
   "cell_type": "code",
   "execution_count": null,
   "metadata": {},
   "outputs": [],
   "source": [
    "final_ordered_submission = test[['user_word']].merge(final_submission, on = 'user_word', how = 'left')"
   ]
  },
  {
   "cell_type": "code",
   "execution_count": null,
   "metadata": {},
   "outputs": [],
   "source": [
    "final_ordered_submission[['user_word', 'predicted_id']].to_csv('submit3.csv', index = False)"
   ]
  }
 ],
 "metadata": {
  "kernelspec": {
   "display_name": "Python 3",
   "language": "python",
   "name": "python3"
  },
  "language_info": {
   "codemirror_mode": {
    "name": "ipython",
    "version": 3
   },
   "file_extension": ".py",
   "mimetype": "text/x-python",
   "name": "python",
   "nbconvert_exporter": "python",
   "pygments_lexer": "ipython3",
   "version": "3.11.6"
  }
 },
 "nbformat": 4,
 "nbformat_minor": 2
}
